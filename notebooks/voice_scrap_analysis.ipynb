{
 "cells": [
  {
   "cell_type": "code",
   "execution_count": null,
   "metadata": {},
   "outputs": [],
   "source": [
    "import parselmouth\n",
    "import pandas as pd\n",
    "import numpy as np\n",
    "import matplotlib.pyplot as plt\n",
    "import seaborn as sns"
   ]
  },
  {
   "cell_type": "code",
   "execution_count": null,
   "metadata": {},
   "outputs": [],
   "source": [
    "file_path = \"/workspaces/voice-analysis/notebooks-pocs/audio/fast.wav\""
   ]
  },
  {
   "cell_type": "code",
   "execution_count": null,
   "metadata": {},
   "outputs": [],
   "source": [
    "sns.set_theme() # Use seaborn's default style to make attractive graphs\n",
    "\n",
    "# Plot nice figures using Python's \"standard\" matplotlib library\n",
    "snd = parselmouth.Sound(file_path)\n",
    "plt.figure()\n",
    "plt.plot(snd.xs(), snd.values.T)\n",
    "plt.xlim([snd.xmin, snd.xmax])\n",
    "plt.xlabel(\"time [s]\")\n",
    "plt.ylabel(\"amplitude\")\n",
    "plt.show() # or plt.savefig(\"sound.png\"), or plt.savefig(\"sound.pdf\")"
   ]
  },
  {
   "cell_type": "code",
   "execution_count": null,
   "metadata": {},
   "outputs": [],
   "source": []
  },
  {
   "cell_type": "code",
   "execution_count": null,
   "metadata": {},
   "outputs": [],
   "source": [
    "dfXs = pd.DataFrame(snd.xs())\n",
    "print(dfXs.describe())\n",
    "\n"
   ]
  },
  {
   "cell_type": "code",
   "execution_count": null,
   "metadata": {},
   "outputs": [],
   "source": [
    "dfValues = pd.DataFrame(snd.values.T)\n",
    "print(dfValues.describe())\n"
   ]
  },
  {
   "cell_type": "code",
   "execution_count": null,
   "metadata": {},
   "outputs": [],
   "source": [
    "import librosa\n",
    "import librosa.display"
   ]
  },
  {
   "cell_type": "code",
   "execution_count": null,
   "metadata": {},
   "outputs": [],
   "source": [
    "\n",
    "# Function to extract audio features\n",
    "def extract_features(file_path):\n",
    "    y, sr = librosa.load(file_path)\n",
    "    #print(y)\n",
    "    #print(sr)\n",
    "    \n",
    "    # Pitch (F0) and Pitch Variation\n",
    "    snd = parselmouth.Sound(file_path)\n",
    "    pitch = snd.to_pitch()\n",
    "    pitch_values = pitch.selected_array['frequency']\n",
    "    pitch_values = pitch_values[pitch_values != 0]  # Remove unvoiced parts\n",
    "    mean_pitch = np.mean(pitch_values)\n",
    "    std_pitch = np.std(pitch_values)\n",
    "    \n",
    "    # Inflection (Pitch Range)\n",
    "    min_pitch = np.min(pitch_values)\n",
    "    max_pitch = np.max(pitch_values)\n",
    "    pitch_range = max_pitch - min_pitch\n",
    "    \n",
    "    # Words Per Minute (WPM)\n",
    "    duration = librosa.get_duration(y=y, sr=sr)\n",
    "    words = librosa.effects.split(y)\n",
    "    word_count = len(words)\n",
    "    #print(words)\n",
    "    wpm = (word_count / duration) * 60\n",
    "    \n",
    "    # Tone and Timbre (MFCCs)\n",
    "    mfccs = librosa.feature.mfcc(y=y, sr=sr, n_mfcc=13)\n",
    "    \n",
    "    return {\n",
    "        'min_pitch': min_pitch,        \n",
    "        'mean_pitch': mean_pitch,\n",
    "        'std_pitch': std_pitch,\n",
    "        'max_pitch': max_pitch,\n",
    "        'pitch_range': pitch_range,\n",
    "        'wpm': wpm,\n",
    "        'mfccs': mfccs,\n",
    "        'duration': duration\n",
    "    }\n",
    "\n",
    "# Function to plot audio features\n",
    "def plot_features(features):\n",
    "    plt.figure(figsize=(14, 8))\n",
    "    \n",
    "    # Plot Pitch\n",
    "    plt.subplot(2, 1, 1)\n",
    "    plt.plot(features['mfccs'][0])\n",
    "    plt.title('MFCCs')\n",
    "    \n",
    "    # Plot MFCCs\n",
    "    plt.subplot(2, 1, 2)\n",
    "    librosa.display.specshow(features['mfccs'], x_axis='time')\n",
    "    plt.colorbar()\n",
    "    plt.title('MFCC')\n",
    "    \n",
    "    plt.tight_layout()\n",
    "    plt.show()"
   ]
  },
  {
   "cell_type": "code",
   "execution_count": null,
   "metadata": {},
   "outputs": [],
   "source": [
    "def show(file_path):\n",
    "    features = extract_features(file_path)\n",
    "    #plot_features(features)\n",
    "\n",
    "    # Print extracted features\n",
    "    print(f\"Min Pitch: {features['min_pitch']}\")\n",
    "    print(f\"Mean Pitch: {features['mean_pitch']}\")\n",
    "    print(f\"Pitch Variation: {features['std_pitch']}\")\n",
    "    print(f\"Max Pitch: {features['max_pitch']}\")\n",
    "    print(f\"Pitch Range: {features['pitch_range']}\")\n",
    "    print(f\"Words Per Minute: {features['wpm']}\")"
   ]
  },
  {
   "cell_type": "code",
   "execution_count": null,
   "metadata": {},
   "outputs": [],
   "source": [
    "show(\"/workspaces/voice-analysis/notebooks-pocs/audio/fast.wav\")"
   ]
  },
  {
   "cell_type": "code",
   "execution_count": null,
   "metadata": {},
   "outputs": [],
   "source": [
    "show(\"/workspaces/voice-analysis/notebooks-pocs/audio/slow.wav\")"
   ]
  },
  {
   "cell_type": "code",
   "execution_count": null,
   "metadata": {},
   "outputs": [],
   "source": [
    "show(\"/workspaces/voice-analysis/notebooks-pocs/audio/tone-variety.wav\")"
   ]
  },
  {
   "cell_type": "code",
   "execution_count": 53,
   "metadata": {},
   "outputs": [
    {
     "name": "stdout",
     "output_type": "stream",
     "text": [
      "***HIGH***\n",
      "Min Pitch: 293.30663065805834\n",
      "Mean Pitch: 390.03246660734777\n",
      "Pitch Variation: 26.84226478533146\n",
      "Max Pitch: 446.65750082110793\n",
      "Pitch Range: 153.3508701630496\n",
      "Words Per Minute: 38.516405135520685\n",
      "***LOW***\n",
      "Min Pitch: 75.55221978702873\n",
      "Mean Pitch: 112.77171178343373\n",
      "Pitch Variation: 45.579179480323624\n",
      "Max Pitch: 447.4033545486049\n",
      "Pitch Range: 371.8511347615762\n",
      "Words Per Minute: 48.56504037909632\n"
     ]
    }
   ],
   "source": [
    "print(\"***HIGH***\")\n",
    "show(\"/workspaces/voice-analysis/notebooks-pocs/audio/high.wav\")\n",
    "\n",
    "print(\"***LOW***\")\n",
    "show(\"/workspaces/voice-analysis/notebooks-pocs/audio/low.wav\")"
   ]
  },
  {
   "cell_type": "code",
   "execution_count": 7,
   "metadata": {},
   "outputs": [
    {
     "name": "stdout",
     "output_type": "stream",
     "text": [
      "[0. 0. 0. ... 0. 0. 0.]\n",
      "high_freq DIM: 1\n",
      "[0. 0. 0. ... 0. 0. 0.]\n",
      "low_freq DIM: 1\n"
     ]
    },
    {
     "ename": "ValueError",
     "evalue": "Input vector should be 1-D.",
     "output_type": "error",
     "traceback": [
      "\u001b[0;31m---------------------------------------------------------------------------\u001b[0m",
      "\u001b[0;31mValueError\u001b[0m                                Traceback (most recent call last)",
      "Cell \u001b[0;32mIn[7], line 30\u001b[0m\n\u001b[1;32m     28\u001b[0m \u001b[38;5;28mprint\u001b[39m(low_freq)\n\u001b[1;32m     29\u001b[0m \u001b[38;5;28mprint\u001b[39m(\u001b[38;5;124mf\u001b[39m\u001b[38;5;124m\"\u001b[39m\u001b[38;5;124mlow_freq DIM: \u001b[39m\u001b[38;5;132;01m{\u001b[39;00mnp\u001b[38;5;241m.\u001b[39masarray(low_freq,\u001b[38;5;250m \u001b[39morder\u001b[38;5;241m=\u001b[39m\u001b[38;5;124m'\u001b[39m\u001b[38;5;124mc\u001b[39m\u001b[38;5;124m'\u001b[39m)\u001b[38;5;241m.\u001b[39mndim\u001b[38;5;132;01m}\u001b[39;00m\u001b[38;5;124m\"\u001b[39m)\n\u001b[0;32m---> 30\u001b[0m distance, path \u001b[38;5;241m=\u001b[39m \u001b[43mfastdtw\u001b[49m\u001b[43m(\u001b[49m\u001b[43mhigh_freq\u001b[49m\u001b[43m,\u001b[49m\u001b[43m \u001b[49m\u001b[43mlow_freq\u001b[49m\u001b[43m,\u001b[49m\u001b[43m \u001b[49m\u001b[43mdist\u001b[49m\u001b[38;5;241;43m=\u001b[39;49m\u001b[43meuclidean\u001b[49m\u001b[43m)\u001b[49m\n\u001b[1;32m     32\u001b[0m \u001b[38;5;66;03m# Cross-Correlation\u001b[39;00m\n\u001b[1;32m     33\u001b[0m cross_corr \u001b[38;5;241m=\u001b[39m correlate(high_freq, low_freq)\n",
      "File \u001b[0;32m/usr/local/python/3.10.15/lib/python3.10/site-packages/fastdtw/fastdtw.py:53\u001b[0m, in \u001b[0;36mfastdtw\u001b[0;34m(x, y, radius, dist)\u001b[0m\n\u001b[1;32m     16\u001b[0m \u001b[38;5;250m\u001b[39m\u001b[38;5;124;03m''' return the approximate distance between 2 time series with O(N)\u001b[39;00m\n\u001b[1;32m     17\u001b[0m \u001b[38;5;124;03m    time and memory complexity\u001b[39;00m\n\u001b[1;32m     18\u001b[0m \n\u001b[0;32m   (...)\u001b[0m\n\u001b[1;32m     50\u001b[0m \u001b[38;5;124;03m    (2.0, [(0, 0), (1, 0), (2, 1), (3, 2), (4, 2)])\u001b[39;00m\n\u001b[1;32m     51\u001b[0m \u001b[38;5;124;03m'''\u001b[39;00m\n\u001b[1;32m     52\u001b[0m x, y, dist \u001b[38;5;241m=\u001b[39m __prep_inputs(x, y, dist)\n\u001b[0;32m---> 53\u001b[0m \u001b[38;5;28;01mreturn\u001b[39;00m \u001b[43m__fastdtw\u001b[49m\u001b[43m(\u001b[49m\u001b[43mx\u001b[49m\u001b[43m,\u001b[49m\u001b[43m \u001b[49m\u001b[43my\u001b[49m\u001b[43m,\u001b[49m\u001b[43m \u001b[49m\u001b[43mradius\u001b[49m\u001b[43m,\u001b[49m\u001b[43m \u001b[49m\u001b[43mdist\u001b[49m\u001b[43m)\u001b[49m\n",
      "File \u001b[0;32m/usr/local/python/3.10.15/lib/python3.10/site-packages/fastdtw/fastdtw.py:73\u001b[0m, in \u001b[0;36m__fastdtw\u001b[0;34m(x, y, radius, dist)\u001b[0m\n\u001b[1;32m     70\u001b[0m x_shrinked \u001b[38;5;241m=\u001b[39m __reduce_by_half(x)\n\u001b[1;32m     71\u001b[0m y_shrinked \u001b[38;5;241m=\u001b[39m __reduce_by_half(y)\n\u001b[1;32m     72\u001b[0m distance, path \u001b[38;5;241m=\u001b[39m \\\n\u001b[0;32m---> 73\u001b[0m     \u001b[43m__fastdtw\u001b[49m\u001b[43m(\u001b[49m\u001b[43mx_shrinked\u001b[49m\u001b[43m,\u001b[49m\u001b[43m \u001b[49m\u001b[43my_shrinked\u001b[49m\u001b[43m,\u001b[49m\u001b[43m \u001b[49m\u001b[43mradius\u001b[49m\u001b[38;5;241;43m=\u001b[39;49m\u001b[43mradius\u001b[49m\u001b[43m,\u001b[49m\u001b[43m \u001b[49m\u001b[43mdist\u001b[49m\u001b[38;5;241;43m=\u001b[39;49m\u001b[43mdist\u001b[49m\u001b[43m)\u001b[49m\n\u001b[1;32m     74\u001b[0m window \u001b[38;5;241m=\u001b[39m __expand_window(path, \u001b[38;5;28mlen\u001b[39m(x), \u001b[38;5;28mlen\u001b[39m(y), radius)\n\u001b[1;32m     75\u001b[0m \u001b[38;5;28;01mreturn\u001b[39;00m __dtw(x, y, window, dist\u001b[38;5;241m=\u001b[39mdist)\n",
      "File \u001b[0;32m/usr/local/python/3.10.15/lib/python3.10/site-packages/fastdtw/fastdtw.py:73\u001b[0m, in \u001b[0;36m__fastdtw\u001b[0;34m(x, y, radius, dist)\u001b[0m\n\u001b[1;32m     70\u001b[0m x_shrinked \u001b[38;5;241m=\u001b[39m __reduce_by_half(x)\n\u001b[1;32m     71\u001b[0m y_shrinked \u001b[38;5;241m=\u001b[39m __reduce_by_half(y)\n\u001b[1;32m     72\u001b[0m distance, path \u001b[38;5;241m=\u001b[39m \\\n\u001b[0;32m---> 73\u001b[0m     \u001b[43m__fastdtw\u001b[49m\u001b[43m(\u001b[49m\u001b[43mx_shrinked\u001b[49m\u001b[43m,\u001b[49m\u001b[43m \u001b[49m\u001b[43my_shrinked\u001b[49m\u001b[43m,\u001b[49m\u001b[43m \u001b[49m\u001b[43mradius\u001b[49m\u001b[38;5;241;43m=\u001b[39;49m\u001b[43mradius\u001b[49m\u001b[43m,\u001b[49m\u001b[43m \u001b[49m\u001b[43mdist\u001b[49m\u001b[38;5;241;43m=\u001b[39;49m\u001b[43mdist\u001b[49m\u001b[43m)\u001b[49m\n\u001b[1;32m     74\u001b[0m window \u001b[38;5;241m=\u001b[39m __expand_window(path, \u001b[38;5;28mlen\u001b[39m(x), \u001b[38;5;28mlen\u001b[39m(y), radius)\n\u001b[1;32m     75\u001b[0m \u001b[38;5;28;01mreturn\u001b[39;00m __dtw(x, y, window, dist\u001b[38;5;241m=\u001b[39mdist)\n",
      "    \u001b[0;31m[... skipping similar frames: __fastdtw at line 73 (6 times)]\u001b[0m\n",
      "File \u001b[0;32m/usr/local/python/3.10.15/lib/python3.10/site-packages/fastdtw/fastdtw.py:73\u001b[0m, in \u001b[0;36m__fastdtw\u001b[0;34m(x, y, radius, dist)\u001b[0m\n\u001b[1;32m     70\u001b[0m x_shrinked \u001b[38;5;241m=\u001b[39m __reduce_by_half(x)\n\u001b[1;32m     71\u001b[0m y_shrinked \u001b[38;5;241m=\u001b[39m __reduce_by_half(y)\n\u001b[1;32m     72\u001b[0m distance, path \u001b[38;5;241m=\u001b[39m \\\n\u001b[0;32m---> 73\u001b[0m     \u001b[43m__fastdtw\u001b[49m\u001b[43m(\u001b[49m\u001b[43mx_shrinked\u001b[49m\u001b[43m,\u001b[49m\u001b[43m \u001b[49m\u001b[43my_shrinked\u001b[49m\u001b[43m,\u001b[49m\u001b[43m \u001b[49m\u001b[43mradius\u001b[49m\u001b[38;5;241;43m=\u001b[39;49m\u001b[43mradius\u001b[49m\u001b[43m,\u001b[49m\u001b[43m \u001b[49m\u001b[43mdist\u001b[49m\u001b[38;5;241;43m=\u001b[39;49m\u001b[43mdist\u001b[49m\u001b[43m)\u001b[49m\n\u001b[1;32m     74\u001b[0m window \u001b[38;5;241m=\u001b[39m __expand_window(path, \u001b[38;5;28mlen\u001b[39m(x), \u001b[38;5;28mlen\u001b[39m(y), radius)\n\u001b[1;32m     75\u001b[0m \u001b[38;5;28;01mreturn\u001b[39;00m __dtw(x, y, window, dist\u001b[38;5;241m=\u001b[39mdist)\n",
      "File \u001b[0;32m/usr/local/python/3.10.15/lib/python3.10/site-packages/fastdtw/fastdtw.py:68\u001b[0m, in \u001b[0;36m__fastdtw\u001b[0;34m(x, y, radius, dist)\u001b[0m\n\u001b[1;32m     65\u001b[0m min_time_size \u001b[38;5;241m=\u001b[39m radius \u001b[38;5;241m+\u001b[39m \u001b[38;5;241m2\u001b[39m\n\u001b[1;32m     67\u001b[0m \u001b[38;5;28;01mif\u001b[39;00m \u001b[38;5;28mlen\u001b[39m(x) \u001b[38;5;241m<\u001b[39m min_time_size \u001b[38;5;129;01mor\u001b[39;00m \u001b[38;5;28mlen\u001b[39m(y) \u001b[38;5;241m<\u001b[39m min_time_size:\n\u001b[0;32m---> 68\u001b[0m     \u001b[38;5;28;01mreturn\u001b[39;00m \u001b[43mdtw\u001b[49m\u001b[43m(\u001b[49m\u001b[43mx\u001b[49m\u001b[43m,\u001b[49m\u001b[43m \u001b[49m\u001b[43my\u001b[49m\u001b[43m,\u001b[49m\u001b[43m \u001b[49m\u001b[43mdist\u001b[49m\u001b[38;5;241;43m=\u001b[39;49m\u001b[43mdist\u001b[49m\u001b[43m)\u001b[49m\n\u001b[1;32m     70\u001b[0m x_shrinked \u001b[38;5;241m=\u001b[39m __reduce_by_half(x)\n\u001b[1;32m     71\u001b[0m y_shrinked \u001b[38;5;241m=\u001b[39m __reduce_by_half(y)\n",
      "File \u001b[0;32m/usr/local/python/3.10.15/lib/python3.10/site-packages/fastdtw/fastdtw.py:130\u001b[0m, in \u001b[0;36mdtw\u001b[0;34m(x, y, dist)\u001b[0m\n\u001b[1;32m     99\u001b[0m \u001b[38;5;250m\u001b[39m\u001b[38;5;124;03m''' return the distance between 2 time series without approximation\u001b[39;00m\n\u001b[1;32m    100\u001b[0m \n\u001b[1;32m    101\u001b[0m \u001b[38;5;124;03m    Parameters\u001b[39;00m\n\u001b[0;32m   (...)\u001b[0m\n\u001b[1;32m    127\u001b[0m \u001b[38;5;124;03m    (2.0, [(0, 0), (1, 0), (2, 1), (3, 2), (4, 2)])\u001b[39;00m\n\u001b[1;32m    128\u001b[0m \u001b[38;5;124;03m'''\u001b[39;00m\n\u001b[1;32m    129\u001b[0m x, y, dist \u001b[38;5;241m=\u001b[39m __prep_inputs(x, y, dist)\n\u001b[0;32m--> 130\u001b[0m \u001b[38;5;28;01mreturn\u001b[39;00m \u001b[43m__dtw\u001b[49m\u001b[43m(\u001b[49m\u001b[43mx\u001b[49m\u001b[43m,\u001b[49m\u001b[43m \u001b[49m\u001b[43my\u001b[49m\u001b[43m,\u001b[49m\u001b[43m \u001b[49m\u001b[38;5;28;43;01mNone\u001b[39;49;00m\u001b[43m,\u001b[49m\u001b[43m \u001b[49m\u001b[43mdist\u001b[49m\u001b[43m)\u001b[49m\n",
      "File \u001b[0;32m/usr/local/python/3.10.15/lib/python3.10/site-packages/fastdtw/fastdtw.py:141\u001b[0m, in \u001b[0;36m__dtw\u001b[0;34m(x, y, window, dist)\u001b[0m\n\u001b[1;32m    139\u001b[0m D[\u001b[38;5;241m0\u001b[39m, \u001b[38;5;241m0\u001b[39m] \u001b[38;5;241m=\u001b[39m (\u001b[38;5;241m0\u001b[39m, \u001b[38;5;241m0\u001b[39m, \u001b[38;5;241m0\u001b[39m)\n\u001b[1;32m    140\u001b[0m \u001b[38;5;28;01mfor\u001b[39;00m i, j \u001b[38;5;129;01min\u001b[39;00m window:\n\u001b[0;32m--> 141\u001b[0m     dt \u001b[38;5;241m=\u001b[39m \u001b[43mdist\u001b[49m\u001b[43m(\u001b[49m\u001b[43mx\u001b[49m\u001b[43m[\u001b[49m\u001b[43mi\u001b[49m\u001b[38;5;241;43m-\u001b[39;49m\u001b[38;5;241;43m1\u001b[39;49m\u001b[43m]\u001b[49m\u001b[43m,\u001b[49m\u001b[43m \u001b[49m\u001b[43my\u001b[49m\u001b[43m[\u001b[49m\u001b[43mj\u001b[49m\u001b[38;5;241;43m-\u001b[39;49m\u001b[38;5;241;43m1\u001b[39;49m\u001b[43m]\u001b[49m\u001b[43m)\u001b[49m\n\u001b[1;32m    142\u001b[0m     D[i, j] \u001b[38;5;241m=\u001b[39m \u001b[38;5;28mmin\u001b[39m((D[i\u001b[38;5;241m-\u001b[39m\u001b[38;5;241m1\u001b[39m, j][\u001b[38;5;241m0\u001b[39m]\u001b[38;5;241m+\u001b[39mdt, i\u001b[38;5;241m-\u001b[39m\u001b[38;5;241m1\u001b[39m, j), (D[i, j\u001b[38;5;241m-\u001b[39m\u001b[38;5;241m1\u001b[39m][\u001b[38;5;241m0\u001b[39m]\u001b[38;5;241m+\u001b[39mdt, i, j\u001b[38;5;241m-\u001b[39m\u001b[38;5;241m1\u001b[39m),\n\u001b[1;32m    143\u001b[0m                   (D[i\u001b[38;5;241m-\u001b[39m\u001b[38;5;241m1\u001b[39m, j\u001b[38;5;241m-\u001b[39m\u001b[38;5;241m1\u001b[39m][\u001b[38;5;241m0\u001b[39m]\u001b[38;5;241m+\u001b[39mdt, i\u001b[38;5;241m-\u001b[39m\u001b[38;5;241m1\u001b[39m, j\u001b[38;5;241m-\u001b[39m\u001b[38;5;241m1\u001b[39m), key\u001b[38;5;241m=\u001b[39m\u001b[38;5;28;01mlambda\u001b[39;00m a: a[\u001b[38;5;241m0\u001b[39m])\n\u001b[1;32m    144\u001b[0m path \u001b[38;5;241m=\u001b[39m []\n",
      "File \u001b[0;32m/usr/local/python/3.10.15/lib/python3.10/site-packages/scipy/spatial/distance.py:520\u001b[0m, in \u001b[0;36meuclidean\u001b[0;34m(u, v, w)\u001b[0m\n\u001b[1;32m    484\u001b[0m \u001b[38;5;28;01mdef\u001b[39;00m \u001b[38;5;21meuclidean\u001b[39m(u, v, w\u001b[38;5;241m=\u001b[39m\u001b[38;5;28;01mNone\u001b[39;00m):\n\u001b[1;32m    485\u001b[0m \u001b[38;5;250m    \u001b[39m\u001b[38;5;124;03m\"\"\"\u001b[39;00m\n\u001b[1;32m    486\u001b[0m \u001b[38;5;124;03m    Computes the Euclidean distance between two 1-D arrays.\u001b[39;00m\n\u001b[1;32m    487\u001b[0m \n\u001b[0;32m   (...)\u001b[0m\n\u001b[1;32m    518\u001b[0m \n\u001b[1;32m    519\u001b[0m \u001b[38;5;124;03m    \"\"\"\u001b[39;00m\n\u001b[0;32m--> 520\u001b[0m     \u001b[38;5;28;01mreturn\u001b[39;00m \u001b[43mminkowski\u001b[49m\u001b[43m(\u001b[49m\u001b[43mu\u001b[49m\u001b[43m,\u001b[49m\u001b[43m \u001b[49m\u001b[43mv\u001b[49m\u001b[43m,\u001b[49m\u001b[43m \u001b[49m\u001b[43mp\u001b[49m\u001b[38;5;241;43m=\u001b[39;49m\u001b[38;5;241;43m2\u001b[39;49m\u001b[43m,\u001b[49m\u001b[43m \u001b[49m\u001b[43mw\u001b[49m\u001b[38;5;241;43m=\u001b[39;49m\u001b[43mw\u001b[49m\u001b[43m)\u001b[49m\n",
      "File \u001b[0;32m/usr/local/python/3.10.15/lib/python3.10/site-packages/scipy/spatial/distance.py:463\u001b[0m, in \u001b[0;36mminkowski\u001b[0;34m(u, v, p, w)\u001b[0m\n\u001b[1;32m    413\u001b[0m \u001b[38;5;28;01mdef\u001b[39;00m \u001b[38;5;21mminkowski\u001b[39m(u, v, p\u001b[38;5;241m=\u001b[39m\u001b[38;5;241m2\u001b[39m, w\u001b[38;5;241m=\u001b[39m\u001b[38;5;28;01mNone\u001b[39;00m):\n\u001b[1;32m    414\u001b[0m \u001b[38;5;250m    \u001b[39m\u001b[38;5;124;03m\"\"\"\u001b[39;00m\n\u001b[1;32m    415\u001b[0m \u001b[38;5;124;03m    Compute the Minkowski distance between two 1-D arrays.\u001b[39;00m\n\u001b[1;32m    416\u001b[0m \n\u001b[0;32m   (...)\u001b[0m\n\u001b[1;32m    461\u001b[0m \n\u001b[1;32m    462\u001b[0m \u001b[38;5;124;03m    \"\"\"\u001b[39;00m\n\u001b[0;32m--> 463\u001b[0m     u \u001b[38;5;241m=\u001b[39m \u001b[43m_validate_vector\u001b[49m\u001b[43m(\u001b[49m\u001b[43mu\u001b[49m\u001b[43m)\u001b[49m\n\u001b[1;32m    464\u001b[0m     v \u001b[38;5;241m=\u001b[39m _validate_vector(v)\n\u001b[1;32m    465\u001b[0m     \u001b[38;5;28;01mif\u001b[39;00m p \u001b[38;5;241m<\u001b[39m\u001b[38;5;241m=\u001b[39m \u001b[38;5;241m0\u001b[39m:\n",
      "File \u001b[0;32m/usr/local/python/3.10.15/lib/python3.10/site-packages/scipy/spatial/distance.py:302\u001b[0m, in \u001b[0;36m_validate_vector\u001b[0;34m(u, dtype)\u001b[0m\n\u001b[1;32m    300\u001b[0m \u001b[38;5;28;01mif\u001b[39;00m u\u001b[38;5;241m.\u001b[39mndim \u001b[38;5;241m==\u001b[39m \u001b[38;5;241m1\u001b[39m:\n\u001b[1;32m    301\u001b[0m     \u001b[38;5;28;01mreturn\u001b[39;00m u\n\u001b[0;32m--> 302\u001b[0m \u001b[38;5;28;01mraise\u001b[39;00m \u001b[38;5;167;01mValueError\u001b[39;00m(\u001b[38;5;124m\"\u001b[39m\u001b[38;5;124mInput vector should be 1-D.\u001b[39m\u001b[38;5;124m\"\u001b[39m)\n",
      "\u001b[0;31mValueError\u001b[0m: Input vector should be 1-D."
     ]
    }
   ],
   "source": [
    "import pandas as pd\n",
    "import numpy as np\n",
    "import matplotlib.pyplot as plt\n",
    "from scipy.spatial.distance import euclidean\n",
    "from fastdtw import fastdtw\n",
    "from scipy.signal import correlate\n",
    "from scipy.stats import pearsonr\n",
    "\n",
    "# Load the CSV file\n",
    "data = pd.read_csv('/workspaces/voice-analysis/high_low.wav.csv')\n",
    "\n",
    "# Separate the data based on labels\n",
    "high = data[data['label'] == 'high']\n",
    "low = data[data['label'] == 'low']\n",
    "\n",
    "# Extract the frequency values\n",
    "high_freq = high['frequency'].values\n",
    "low_freq = low['frequency'].values\n",
    "\n",
    "# Ensure both series have the same length for comparison\n",
    "min_length = min(len(high_freq), len(low_freq))\n",
    "high_freq = high_freq[:min_length]\n",
    "low_freq = low_freq[:min_length]\n",
    "\n",
    "# Dynamic Time Warping (DTW)\n",
    "print(high_freq)\n",
    "print(f\"high_freq DIM: {np.asarray(high_freq, order='c').ndim}\")\n",
    "print(low_freq)\n",
    "print(f\"low_freq DIM: {np.asarray(low_freq, order='c').ndim}\")\n",
    "distance, path = fastdtw(high_freq, low_freq, dist=euclidean)\n",
    "\n",
    "# Cross-Correlation\n",
    "cross_corr = correlate(high_freq, low_freq)\n",
    "\n",
    "# Euclidean Distance\n",
    "euclidean_distance = np.linalg.norm(high_freq - low_freq)\n",
    "\n",
    "# Statistical Measures: Pearson Correlation Coefficient\n",
    "pearson_corr, _ = pearsonr(high_freq, low_freq)\n",
    "\n",
    "# Plotting the results\n",
    "plt.figure(figsize=(14, 10))\n",
    "\n",
    "# Plot High and Low frequencies\n",
    "plt.subplot(4, 1, 1)\n",
    "plt.plot(high['seconds'], high_freq, label='High Frequency')\n",
    "plt.plot(low['seconds'], low_freq, label='Low Frequency')\n",
    "plt.title('High vs Low Frequency')\n",
    "plt.xlabel('Time (seconds)')\n",
    "plt.ylabel('Frequency (Hz)')\n",
    "plt.legend()\n",
    "\n",
    "# Plot DTW path\n",
    "plt.subplot(4, 1, 2)\n",
    "plt.plot(path)\n",
    "plt.title(f'Dynamic Time Warping Path (Distance: {distance:.2f})')\n",
    "plt.xlabel('Path Index')\n",
    "plt.ylabel('Frequency Index')\n",
    "\n",
    "# Plot Cross-Correlation\n",
    "plt.subplot(4, 1, 3)\n",
    "plt.plot(cross_corr)\n",
    "plt.title('Cross-Correlation')\n",
    "plt.xlabel('Lag')\n",
    "plt.ylabel('Correlation')\n",
    "\n",
    "# Plot Euclidean Distance and Pearson Correlation Coefficient\n",
    "plt.subplot(4, 1, 4)\n",
    "plt.bar(['Euclidean Distance', 'Pearson Correlation'], [euclidean_distance, pearson_corr])\n",
    "plt.title('Euclidean Distance and Pearson Correlation Coefficient')\n",
    "plt.ylabel('Value')\n",
    "\n",
    "# Adjust layout and show plot\n",
    "plt.tight_layout()\n",
    "plt.show()\n",
    "\n",
    "print(f\"DTW Distance: {distance:.2f}\")\n",
    "print(f\"Euclidean Distance: {euclidean_distance:.2f}\")\n",
    "print(f\"Pearson Correlation Coefficient: {pearson_corr:.2f}\")\n",
    "\n"
   ]
  },
  {
   "cell_type": "code",
   "execution_count": 1,
   "metadata": {},
   "outputs": [
    {
     "name": "stderr",
     "output_type": "stream",
     "text": [
      "\n",
      "A module that was compiled using NumPy 1.x cannot be run in\n",
      "NumPy 2.0.2 as it may crash. To support both 1.x and 2.x\n",
      "versions of NumPy, modules must be compiled with NumPy 2.0.\n",
      "Some module may need to rebuild instead e.g. with 'pybind11>=2.12'.\n",
      "\n",
      "If you are a user of the module, the easiest solution will be to\n",
      "downgrade to 'numpy<2' or try to upgrade the affected module.\n",
      "We expect that some modules will need time to support NumPy 2.\n",
      "\n",
      "Traceback (most recent call last):  File \"/usr/local/python/3.10.15/lib/python3.10/runpy.py\", line 196, in _run_module_as_main\n",
      "    return _run_code(code, main_globals, None,\n",
      "  File \"/usr/local/python/3.10.15/lib/python3.10/runpy.py\", line 86, in _run_code\n",
      "    exec(code, run_globals)\n",
      "  File \"/home/vscode/.local/lib/python3.10/site-packages/ipykernel_launcher.py\", line 18, in <module>\n",
      "    app.launch_new_instance()\n",
      "  File \"/home/vscode/.local/lib/python3.10/site-packages/traitlets/config/application.py\", line 1075, in launch_instance\n",
      "    app.start()\n",
      "  File \"/home/vscode/.local/lib/python3.10/site-packages/ipykernel/kernelapp.py\", line 739, in start\n",
      "    self.io_loop.start()\n",
      "  File \"/home/vscode/.local/lib/python3.10/site-packages/tornado/platform/asyncio.py\", line 205, in start\n",
      "    self.asyncio_loop.run_forever()\n",
      "  File \"/usr/local/python/3.10.15/lib/python3.10/asyncio/base_events.py\", line 603, in run_forever\n",
      "    self._run_once()\n",
      "  File \"/usr/local/python/3.10.15/lib/python3.10/asyncio/base_events.py\", line 1909, in _run_once\n",
      "    handle._run()\n",
      "  File \"/usr/local/python/3.10.15/lib/python3.10/asyncio/events.py\", line 80, in _run\n",
      "    self._context.run(self._callback, *self._args)\n",
      "  File \"/home/vscode/.local/lib/python3.10/site-packages/ipykernel/kernelbase.py\", line 545, in dispatch_queue\n",
      "    await self.process_one()\n",
      "  File \"/home/vscode/.local/lib/python3.10/site-packages/ipykernel/kernelbase.py\", line 534, in process_one\n",
      "    await dispatch(*args)\n",
      "  File \"/home/vscode/.local/lib/python3.10/site-packages/ipykernel/kernelbase.py\", line 437, in dispatch_shell\n",
      "    await result\n",
      "  File \"/home/vscode/.local/lib/python3.10/site-packages/ipykernel/ipkernel.py\", line 362, in execute_request\n",
      "    await super().execute_request(stream, ident, parent)\n",
      "  File \"/home/vscode/.local/lib/python3.10/site-packages/ipykernel/kernelbase.py\", line 778, in execute_request\n",
      "    reply_content = await reply_content\n",
      "  File \"/home/vscode/.local/lib/python3.10/site-packages/ipykernel/ipkernel.py\", line 449, in do_execute\n",
      "    res = shell.run_cell(\n",
      "  File \"/home/vscode/.local/lib/python3.10/site-packages/ipykernel/zmqshell.py\", line 549, in run_cell\n",
      "    return super().run_cell(*args, **kwargs)\n",
      "  File \"/home/vscode/.local/lib/python3.10/site-packages/IPython/core/interactiveshell.py\", line 3075, in run_cell\n",
      "    result = self._run_cell(\n",
      "  File \"/home/vscode/.local/lib/python3.10/site-packages/IPython/core/interactiveshell.py\", line 3130, in _run_cell\n",
      "    result = runner(coro)\n",
      "  File \"/home/vscode/.local/lib/python3.10/site-packages/IPython/core/async_helpers.py\", line 128, in _pseudo_sync_runner\n",
      "    coro.send(None)\n",
      "  File \"/home/vscode/.local/lib/python3.10/site-packages/IPython/core/interactiveshell.py\", line 3334, in run_cell_async\n",
      "    has_raised = await self.run_ast_nodes(code_ast.body, cell_name,\n",
      "  File \"/home/vscode/.local/lib/python3.10/site-packages/IPython/core/interactiveshell.py\", line 3517, in run_ast_nodes\n",
      "    if await self.run_code(code, result, async_=asy):\n",
      "  File \"/home/vscode/.local/lib/python3.10/site-packages/IPython/core/interactiveshell.py\", line 3577, in run_code\n",
      "    exec(code_obj, self.user_global_ns, self.user_ns)\n",
      "  File \"/tmp/ipykernel_10796/1328933790.py\", line 5, in <module>\n",
      "    from dtaidistance import dtw\n",
      "  File \"/usr/local/python/3.10.15/lib/python3.10/site-packages/dtaidistance/__init__.py\", line 19, in <module>\n",
      "    from . import dtw\n",
      "  File \"/usr/local/python/3.10.15/lib/python3.10/site-packages/dtaidistance/dtw.py\", line 17, in <module>\n",
      "    from . import ed\n",
      "  File \"/usr/local/python/3.10.15/lib/python3.10/site-packages/dtaidistance/ed.py\", line 16, in <module>\n",
      "    from . import innerdistance\n",
      "  File \"/usr/local/python/3.10.15/lib/python3.10/site-packages/dtaidistance/innerdistance.py\", line 16, in <module>\n",
      "    from . import util\n",
      "  File \"/usr/local/python/3.10.15/lib/python3.10/site-packages/dtaidistance/util.py\", line 41, in <module>\n",
      "    from . import dtw_cc_numpy\n",
      "\n",
      "A module that was compiled using NumPy 1.x cannot be run in\n",
      "NumPy 2.0.2 as it may crash. To support both 1.x and 2.x\n",
      "versions of NumPy, modules must be compiled with NumPy 2.0.\n",
      "Some module may need to rebuild instead e.g. with 'pybind11>=2.12'.\n",
      "\n",
      "If you are a user of the module, the easiest solution will be to\n",
      "downgrade to 'numpy<2' or try to upgrade the affected module.\n",
      "We expect that some modules will need time to support NumPy 2.\n",
      "\n",
      "Traceback (most recent call last):  File \"/usr/local/python/3.10.15/lib/python3.10/runpy.py\", line 196, in _run_module_as_main\n",
      "    return _run_code(code, main_globals, None,\n",
      "  File \"/usr/local/python/3.10.15/lib/python3.10/runpy.py\", line 86, in _run_code\n",
      "    exec(code, run_globals)\n",
      "  File \"/home/vscode/.local/lib/python3.10/site-packages/ipykernel_launcher.py\", line 18, in <module>\n",
      "    app.launch_new_instance()\n",
      "  File \"/home/vscode/.local/lib/python3.10/site-packages/traitlets/config/application.py\", line 1075, in launch_instance\n",
      "    app.start()\n",
      "  File \"/home/vscode/.local/lib/python3.10/site-packages/ipykernel/kernelapp.py\", line 739, in start\n",
      "    self.io_loop.start()\n",
      "  File \"/home/vscode/.local/lib/python3.10/site-packages/tornado/platform/asyncio.py\", line 205, in start\n",
      "    self.asyncio_loop.run_forever()\n",
      "  File \"/usr/local/python/3.10.15/lib/python3.10/asyncio/base_events.py\", line 603, in run_forever\n",
      "    self._run_once()\n",
      "  File \"/usr/local/python/3.10.15/lib/python3.10/asyncio/base_events.py\", line 1909, in _run_once\n",
      "    handle._run()\n",
      "  File \"/usr/local/python/3.10.15/lib/python3.10/asyncio/events.py\", line 80, in _run\n",
      "    self._context.run(self._callback, *self._args)\n",
      "  File \"/home/vscode/.local/lib/python3.10/site-packages/ipykernel/kernelbase.py\", line 545, in dispatch_queue\n",
      "    await self.process_one()\n",
      "  File \"/home/vscode/.local/lib/python3.10/site-packages/ipykernel/kernelbase.py\", line 534, in process_one\n",
      "    await dispatch(*args)\n",
      "  File \"/home/vscode/.local/lib/python3.10/site-packages/ipykernel/kernelbase.py\", line 437, in dispatch_shell\n",
      "    await result\n",
      "  File \"/home/vscode/.local/lib/python3.10/site-packages/ipykernel/ipkernel.py\", line 362, in execute_request\n",
      "    await super().execute_request(stream, ident, parent)\n",
      "  File \"/home/vscode/.local/lib/python3.10/site-packages/ipykernel/kernelbase.py\", line 778, in execute_request\n",
      "    reply_content = await reply_content\n",
      "  File \"/home/vscode/.local/lib/python3.10/site-packages/ipykernel/ipkernel.py\", line 449, in do_execute\n",
      "    res = shell.run_cell(\n",
      "  File \"/home/vscode/.local/lib/python3.10/site-packages/ipykernel/zmqshell.py\", line 549, in run_cell\n",
      "    return super().run_cell(*args, **kwargs)\n",
      "  File \"/home/vscode/.local/lib/python3.10/site-packages/IPython/core/interactiveshell.py\", line 3075, in run_cell\n",
      "    result = self._run_cell(\n",
      "  File \"/home/vscode/.local/lib/python3.10/site-packages/IPython/core/interactiveshell.py\", line 3130, in _run_cell\n",
      "    result = runner(coro)\n",
      "  File \"/home/vscode/.local/lib/python3.10/site-packages/IPython/core/async_helpers.py\", line 128, in _pseudo_sync_runner\n",
      "    coro.send(None)\n",
      "  File \"/home/vscode/.local/lib/python3.10/site-packages/IPython/core/interactiveshell.py\", line 3334, in run_cell_async\n",
      "    has_raised = await self.run_ast_nodes(code_ast.body, cell_name,\n",
      "  File \"/home/vscode/.local/lib/python3.10/site-packages/IPython/core/interactiveshell.py\", line 3517, in run_ast_nodes\n",
      "    if await self.run_code(code, result, async_=asy):\n",
      "  File \"/home/vscode/.local/lib/python3.10/site-packages/IPython/core/interactiveshell.py\", line 3577, in run_code\n",
      "    exec(code_obj, self.user_global_ns, self.user_ns)\n",
      "  File \"/tmp/ipykernel_10796/1328933790.py\", line 5, in <module>\n",
      "    from dtaidistance import dtw\n",
      "  File \"/usr/local/python/3.10.15/lib/python3.10/site-packages/dtaidistance/__init__.py\", line 19, in <module>\n",
      "    from . import dtw\n",
      "  File \"/usr/local/python/3.10.15/lib/python3.10/site-packages/dtaidistance/dtw.py\", line 46, in <module>\n",
      "    from . import dtw_cc_numpy\n"
     ]
    },
    {
     "ename": "ValueError",
     "evalue": "operands could not be broadcast together with shapes (595,) (478,) ",
     "output_type": "error",
     "traceback": [
      "\u001b[0;31m---------------------------------------------------------------------------\u001b[0m",
      "\u001b[0;31mValueError\u001b[0m                                Traceback (most recent call last)",
      "Cell \u001b[0;32mIn[1], line 30\u001b[0m\n\u001b[1;32m     27\u001b[0m cross_corr \u001b[38;5;241m=\u001b[39m correlate(high_freq, low_freq)\n\u001b[1;32m     29\u001b[0m \u001b[38;5;66;03m# Euclidean Distance\u001b[39;00m\n\u001b[0;32m---> 30\u001b[0m euclidean_distance \u001b[38;5;241m=\u001b[39m np\u001b[38;5;241m.\u001b[39mlinalg\u001b[38;5;241m.\u001b[39mnorm(\u001b[43mhigh_freq\u001b[49m\u001b[43m \u001b[49m\u001b[38;5;241;43m-\u001b[39;49m\u001b[43m \u001b[49m\u001b[43mlow_freq\u001b[49m)\n\u001b[1;32m     32\u001b[0m \u001b[38;5;66;03m# Statistical Measures\u001b[39;00m\n\u001b[1;32m     33\u001b[0m mean_high \u001b[38;5;241m=\u001b[39m np\u001b[38;5;241m.\u001b[39mmean(high_freq)\n",
      "\u001b[0;31mValueError\u001b[0m: operands could not be broadcast together with shapes (595,) (478,) "
     ]
    }
   ],
   "source": [
    "import pandas as pd\n",
    "import numpy as np\n",
    "import matplotlib.pyplot as plt\n",
    "from scipy.spatial.distance import euclidean\n",
    "from dtaidistance import dtw\n",
    "from scipy.signal import correlate\n",
    "\n",
    "# Load the data from the CSV file\n",
    "data = pd.read_csv('/workspaces/voice-analysis/high_low.wav.csv')\n",
    "\n",
    "# Extract high and low frequency data\n",
    "high_freq = data[data['label'] == 'high']['frequency'].values\n",
    "low_freq = data[data['label'] == 'low']['frequency'].values\n",
    "\n",
    "# Ensure both series are 1-D arrays\n",
    "high_freq = np.asarray(high_freq, order='C')\n",
    "low_freq = np.asarray(low_freq, order='C')\n",
    "\n",
    "# Remove zero values from both series to avoid ValueError in DTW calculation\n",
    "high_freq = high_freq[high_freq != 0]\n",
    "low_freq = low_freq[low_freq != 0]\n",
    "\n",
    "# Dynamic Time Warping (DTW)\n",
    "distance, path = dtw.warping_paths(high_freq, low_freq)\n",
    "\n",
    "# Cross-Correlation\n",
    "cross_corr = correlate(high_freq, low_freq)\n",
    "\n",
    "# Euclidean Distance\n",
    "euclidean_distance = np.linalg.norm(high_freq - low_freq)\n",
    "\n",
    "# Statistical Measures\n",
    "mean_high = np.mean(high_freq)\n",
    "mean_low = np.mean(low_freq)\n",
    "std_high = np.std(high_freq)\n",
    "std_low = np.std(low_freq)\n",
    "\n",
    "# Plotting the results\n",
    "plt.figure(figsize=(12, 8))\n",
    "\n",
    "# Plot high and low frequencies\n",
    "plt.subplot(3, 1, 1)\n",
    "plt.plot(high_freq, label='High Frequency')\n",
    "plt.plot(low_freq, label='Low Frequency')\n",
    "plt.title('High vs Low Frequency')\n",
    "plt.legend()\n",
    "\n",
    "# Plot cross-correlation\n",
    "plt.subplot(3, 1, 2)\n",
    "plt.plot(cross_corr)\n",
    "plt.title('Cross-Correlation')\n",
    "\n",
    "# Plot DTW path\n",
    "plt.subplot(3, 1, 3)\n",
    "for (map_x, map_y) in path:\n",
    "    plt.plot([map_x, map_y], [high_freq[map_x], low_freq[map_y]], color='gray')\n",
    "plt.plot(high_freq, label='High Frequency')\n",
    "plt.plot(low_freq, label='Low Frequency')\n",
    "plt.title('DTW Path')\n",
    "plt.legend()\n",
    "\n",
    "plt.tight_layout()\n",
    "plt.show()\n",
    "\n",
    "print(f\"DTW Distance: {distance}\")\n",
    "print(f\"Euclidean Distance: {euclidean_distance}\")\n",
    "print(f\"Mean High Frequency: {mean_high}\")\n",
    "print(f\"Mean Low Frequency: {mean_low}\")\n",
    "print(f\"Standard Deviation High Frequency: {std_high}\")\n",
    "print(f\"Standard Deviation Low Frequency: {std_low}\")\n"
   ]
  },
  {
   "cell_type": "markdown",
   "metadata": {},
   "source": [
    "## SPeech Tempo failed attemps\n"
   ]
  },
  {
   "cell_type": "markdown",
   "metadata": {},
   "source": [
    "## Speech Tempo\n",
    "The best measure I could find is Words per minute"
   ]
  },
  {
   "cell_type": "code",
   "execution_count": null,
   "metadata": {},
   "outputs": [],
   "source": [
    "sr = 2205000\n",
    "y, sr = librosa.load(audio_filename, sr=sr)"
   ]
  },
  {
   "cell_type": "markdown",
   "metadata": {},
   "source": [
    "### Undersetanding Librosa\n",
    "\n",
    "Understanding the data Librosa has to offer\n",
    "It looks like upon loading the audio file, it provides a relative amplitude time series\n",
    "\n",
    "```python\n",
    "y, sr = librosa.load(audio_filename, sr=sr)\n",
    "snd = parselmouth.Sound(audio_filename)\n",
    "\n",
    "y ==  snd.values.T\n",
    "```"
   ]
  },
  {
   "cell_type": "code",
   "execution_count": null,
   "metadata": {},
   "outputs": [],
   "source": [
    "\n",
    "#duration = librosa.get_duration(y=y, sr=sr)\n",
    " #   words = librosa.effects.split(y)\n",
    "  #  word_count = len(words)"
   ]
  },
  {
   "cell_type": "markdown",
   "metadata": {},
   "source": [
    "#### Creating the time series array as Librosa doesn't provide one"
   ]
  },
  {
   "cell_type": "code",
   "execution_count": null,
   "metadata": {},
   "outputs": [
    {
     "data": {
      "text/plain": [
       "125883450"
      ]
     },
     "metadata": {},
     "output_type": "display_data"
    },
    {
     "ename": "",
     "evalue": "",
     "output_type": "error",
     "traceback": [
      "\u001b[1;31mThe Kernel crashed while executing code in the current cell or a previous cell. \n",
      "\u001b[1;31mPlease review the code in the cell(s) to identify a possible cause of the failure. \n",
      "\u001b[1;31mClick <a href='https://aka.ms/vscodeJupyterKernelCrash'>here</a> for more info. \n",
      "\u001b[1;31mView Jupyter <a href='command:jupyter.viewOutput'>log</a> for further details."
     ]
    }
   ],
   "source": [
    "time = np.arange(0, len(y)) / sr\n",
    "time.size"
   ]
  },
  {
   "cell_type": "markdown",
   "metadata": {},
   "source": [
    "#### Plotting Librosa aplitude next to Parselmouth Sound Amplitude\n",
    "Same information"
   ]
  },
  {
   "cell_type": "code",
   "execution_count": null,
   "metadata": {},
   "outputs": [
    {
     "ename": "",
     "evalue": "",
     "output_type": "error",
     "traceback": [
      "\u001b[1;31mCanceled future for execute_request message before replies were done"
     ]
    },
    {
     "ename": "",
     "evalue": "",
     "output_type": "error",
     "traceback": [
      "\u001b[1;31mCanceled future for execute_request message before replies were done. \n",
      "\u001b[1;31mView Jupyter <a href='command:jupyter.viewOutput'>log</a> for further details."
     ]
    }
   ],
   "source": [
    "\n",
    "fig, ax1 = plt.subplots(figsize=(20, 4), dpi=300)\n",
    "\n",
    "# Plot the amplitude from snd parselmouth\n",
    "ax1.plot(snd.xs(), snd.values.T, color='blue')\n",
    "ax1.set_xlabel(\"time [s]\")\n",
    "ax1.set_ylabel(\"amplitude [Pa]\", color='blue')\n",
    "ax1.tick_params(axis='y', labelcolor='blue')\n",
    "\n",
    "# Plot amplitude frm librosa\n",
    "ax2 = ax1.twinx()\n",
    "ax2.plot(time,y, color='red')\n",
    "ax2.set_ylabel(\"relative amplitude\", color='red')\n",
    "ax2.tick_params(axis='y', labelcolor='red')\n",
    "\n",
    "# Show the plot\n",
    "fig.tight_layout()  # Adjust layout to prevent overlap\n",
    "plt.show()"
   ]
  },
  {
   "cell_type": "markdown",
   "metadata": {},
   "source": [
    "#### Getting Words per minute"
   ]
  },
  {
   "cell_type": "code",
   "execution_count": null,
   "metadata": {},
   "outputs": [],
   "source": [
    "words = librosa.effects.split(y)\n",
    "words"
   ]
  },
  {
   "cell_type": "code",
   "execution_count": null,
   "metadata": {},
   "outputs": [],
   "source": [
    "\n",
    "for topdb in range(90, 200, 10):\n",
    "    print(f\"words with topdb = {topdb} =  {len(librosa.effects.split(y, top_db=topdb))}\")\n",
    "    print(\"*****\")\n",
    "\n"
   ]
  },
  {
   "cell_type": "code",
   "execution_count": null,
   "metadata": {},
   "outputs": [],
   "source": [
    "tempo, _ = librosa.beat.beat_track(y=y, sr=sr)\n",
    "print(f\"Estimated Tempo: {tempo} beats per minute\")"
   ]
  },
  {
   "cell_type": "code",
   "execution_count": null,
   "metadata": {},
   "outputs": [],
   "source": [
    "from parselmouth.praat import call\n",
    "snd.to_pitch()\n",
    "formant = call(snd, \"To Formant (burg)\", 0.0, 5, 5500, 0.025, 50.0)\n",
    "print(formant)\n",
    "#formant.values"
   ]
  },
  {
   "cell_type": "code",
   "execution_count": null,
   "metadata": {},
   "outputs": [],
   "source": [
    "pitch_threashold = snd.to_pitch(time_step=0.1, pitch_floor=75.0, pitch_ceiling=600.0)\n",
    "pitch_threashold"
   ]
  },
  {
   "cell_type": "code",
   "execution_count": null,
   "metadata": {},
   "outputs": [],
   "source": [
    "len(pitch)"
   ]
  },
  {
   "cell_type": "code",
   "execution_count": null,
   "metadata": {},
   "outputs": [],
   "source": [
    "len(pitch_threashold)"
   ]
  },
  {
   "cell_type": "code",
   "execution_count": null,
   "metadata": {},
   "outputs": [],
   "source": [
    "\n",
    "pitch_threashold_values = pitch_threashold.selected_array['frequency']\n",
    "# NOt plotting zero values\n",
    "pitch_threashold_values[pitch_threashold_values==0] = np.nan    \n",
    "plt.plot(pitch_threashold.xs(), pitch_threashold_values, '.', markersize=4, color=\"black\")            \n",
    "#plt.ylim(0, np.nanmax(pitch_threashold_values))  \n",
    "\n",
    "plt.ylabel(\"fundamental frequency [Hz]\")\n",
    "plt.xlabel(\"time [secs]\")\n",
    "\n",
    "#draw_horizontal_shadows(plt, 0.2)\n",
    "#draw_legend(plt, 0.4)\n",
    "plt.show()"
   ]
  },
  {
   "cell_type": "markdown",
   "metadata": {},
   "source": [
    "When I tried to install spanish at sphnx\n",
    "\n",
    "BEfore realizing google freee speech recognition does even a better job "
   ]
  },
  {
   "cell_type": "markdown",
   "metadata": {},
   "source": [
    "Trying Sphinx dfor spanish"
   ]
  },
  {
   "cell_type": "code",
   "execution_count": null,
   "metadata": {},
   "outputs": [],
   "source": [
    "from pocketsphinx import get_model_path\n",
    "\n",
    "pocketsphinx_model_path = get_model_path()\n",
    "pocketsphinx_model_path\n",
    "\n",
    "downloaded_path = \"/workspaces/voice-analysis/dependency/pocketsphinx_language\"\n",
    "\n",
    "pocketsphinx_model_path_es = os.path.join(pocketsphinx_model_path, \"es-ES\")\n",
    "# /usr/local/python/3.10.15/lib/python3.10/site-packages/pocketsphinx/model/es-ES'\n",
    "\n",
    "\n",
    "pocketsphinx_model_path_es = \"/usr/local/python/3.10.15/lib/python3.10/site-packages/speech_recognition/pocketsphinx-data/es-ES\"\n",
    "\n",
    "os.makedirs(pocketsphinx_model_path_es, exist_ok=True)\n",
    "\n",
    "shutil.copy2(os.path.join(downloaded_path, \"es-20k.lm.gz\"), pocketsphinx_model_path_es)\n",
    "shutil.copy2(os.path.join(downloaded_path, \"es.dict\"), pocketsphinx_model_path_es)\n",
    "shutil.copy2(os.path.join(downloaded_path, \"cmusphinx-es-5.2.tar.gz\"), pocketsphinx_model_path_es)"
   ]
  },
  {
   "cell_type": "markdown",
   "metadata": {},
   "source": [
    "## Chunkng to get WPM by sections"
   ]
  },
  {
   "cell_type": "code",
   "execution_count": null,
   "metadata": {},
   "outputs": [],
   "source": [
    "\n",
    "\n",
    "# times between which to extract the wave from\n",
    "start = 6 # seconds\n",
    "end = 11 # seconds\n",
    "\n",
    "# file to extract the snippet from\n",
    "with wave.open(audio_filename, \"rb\") as infile:\n",
    "    # get file data\n",
    "    nchannels = infile.getnchannels()\n",
    "    sampwidth = infile.getsampwidth()\n",
    "    framerate = infile.getframerate()\n",
    "    # set position in wave to start of segment\n",
    "    infile.setpos(int(start * framerate))\n",
    "    # extract data\n",
    "    data = infile.readframes(int((end - start) * framerate))\n",
    "\n",
    "# write the extracted data to a new file\n",
    "with wave.open(audio_filename+\"second_half.wav\", 'w') as outfile:\n",
    "    outfile.setnchannels(nchannels)\n",
    "    outfile.setsampwidth(sampwidth)\n",
    "    outfile.setframerate(framerate)\n",
    "    outfile.setnframes(int(len(data) / sampwidth))\n",
    "    outfile.writeframes(data)\n",
    "with sr.AudioFile(audio_filename+\"second_half.wav\") as source:\n",
    "    audio_data = recognizer.record(source)\n",
    "    # Recognize speech using Google Web Speech API\n",
    "    text = recognizer.recognize_google(audio_data, language=\"es-ES\")\n",
    "    print(\"Transcription:\", text)\n"
   ]
  },
  {
   "cell_type": "code",
   "execution_count": null,
   "metadata": {},
   "outputs": [],
   "source": []
  }
 ],
 "metadata": {
  "kernelspec": {
   "display_name": "Python 3 (ipykernel)",
   "language": "python",
   "name": "python3"
  },
  "language_info": {
   "codemirror_mode": {
    "name": "ipython",
    "version": 3
   },
   "file_extension": ".py",
   "mimetype": "text/x-python",
   "name": "python",
   "nbconvert_exporter": "python",
   "pygments_lexer": "ipython3",
   "version": "3.10.15"
  }
 },
 "nbformat": 4,
 "nbformat_minor": 2
}
