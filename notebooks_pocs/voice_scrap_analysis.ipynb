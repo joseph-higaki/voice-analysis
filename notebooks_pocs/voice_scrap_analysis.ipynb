{
 "cells": [
  {
   "cell_type": "code",
   "execution_count": null,
   "metadata": {},
   "outputs": [],
   "source": [
    "import parselmouth\n",
    "import pandas as pd\n",
    "import numpy as np\n",
    "import matplotlib.pyplot as plt\n",
    "import seaborn as sns"
   ]
  },
  {
   "cell_type": "code",
   "execution_count": null,
   "metadata": {},
   "outputs": [],
   "source": [
    "file_path = \"/workspaces/voice-analysis/notebooks-pocs/audio/fast.wav\""
   ]
  },
  {
   "cell_type": "code",
   "execution_count": null,
   "metadata": {},
   "outputs": [],
   "source": [
    "sns.set_theme() # Use seaborn's default style to make attractive graphs\n",
    "\n",
    "# Plot nice figures using Python's \"standard\" matplotlib library\n",
    "snd = parselmouth.Sound(file_path)\n",
    "plt.figure()\n",
    "plt.plot(snd.xs(), snd.values.T)\n",
    "plt.xlim([snd.xmin, snd.xmax])\n",
    "plt.xlabel(\"time [s]\")\n",
    "plt.ylabel(\"amplitude\")\n",
    "plt.show() # or plt.savefig(\"sound.png\"), or plt.savefig(\"sound.pdf\")"
   ]
  },
  {
   "cell_type": "code",
   "execution_count": null,
   "metadata": {},
   "outputs": [],
   "source": [
    "dfXs = pd.DataFrame(snd.xs())\n",
    "print(dfXs.describe())\n",
    "\n"
   ]
  },
  {
   "cell_type": "code",
   "execution_count": null,
   "metadata": {},
   "outputs": [],
   "source": [
    "dfValues = pd.DataFrame(snd.values.T)\n",
    "print(dfValues.describe())\n"
   ]
  },
  {
   "cell_type": "code",
   "execution_count": null,
   "metadata": {},
   "outputs": [],
   "source": [
    "import librosa\n",
    "import librosa.display"
   ]
  },
  {
   "cell_type": "code",
   "execution_count": null,
   "metadata": {},
   "outputs": [],
   "source": [
    "\n",
    "# Function to extract audio features\n",
    "def extract_features(file_path):\n",
    "    y, sr = librosa.load(file_path)\n",
    "    #print(y)\n",
    "    #print(sr)\n",
    "    \n",
    "    # Pitch (F0) and Pitch Variation\n",
    "    snd = parselmouth.Sound(file_path)\n",
    "    pitch = snd.to_pitch()\n",
    "    pitch_values = pitch.selected_array['frequency']\n",
    "    pitch_values = pitch_values[pitch_values != 0]  # Remove unvoiced parts\n",
    "    mean_pitch = np.mean(pitch_values)\n",
    "    std_pitch = np.std(pitch_values)\n",
    "    \n",
    "    # Inflection (Pitch Range)\n",
    "    min_pitch = np.min(pitch_values)\n",
    "    max_pitch = np.max(pitch_values)\n",
    "    pitch_range = max_pitch - min_pitch\n",
    "    \n",
    "    # Words Per Minute (WPM)\n",
    "    duration = librosa.get_duration(y=y, sr=sr)\n",
    "    words = librosa.effects.split(y)\n",
    "    word_count = len(words)\n",
    "    #print(words)\n",
    "    wpm = (word_count / duration) * 60\n",
    "    \n",
    "    # Tone and Timbre (MFCCs)\n",
    "    mfccs = librosa.feature.mfcc(y=y, sr=sr, n_mfcc=13)\n",
    "    \n",
    "    return {\n",
    "        'min_pitch': min_pitch,        \n",
    "        'mean_pitch': mean_pitch,\n",
    "        'std_pitch': std_pitch,\n",
    "        'max_pitch': max_pitch,\n",
    "        'pitch_range': pitch_range,\n",
    "        'wpm': wpm,\n",
    "        'mfccs': mfccs,\n",
    "        'duration': duration\n",
    "    }\n",
    "\n",
    "# Function to plot audio features\n",
    "def plot_features(features):\n",
    "    plt.figure(figsize=(14, 8))\n",
    "    \n",
    "    # Plot Pitch\n",
    "    plt.subplot(2, 1, 1)\n",
    "    plt.plot(features['mfccs'][0])\n",
    "    plt.title('MFCCs')\n",
    "    \n",
    "    # Plot MFCCs\n",
    "    plt.subplot(2, 1, 2)\n",
    "    librosa.display.specshow(features['mfccs'], x_axis='time')\n",
    "    plt.colorbar()\n",
    "    plt.title('MFCC')\n",
    "    \n",
    "    plt.tight_layout()\n",
    "    plt.show()"
   ]
  },
  {
   "cell_type": "code",
   "execution_count": null,
   "metadata": {},
   "outputs": [],
   "source": [
    "def show(file_path):\n",
    "    features = extract_features(file_path)\n",
    "    #plot_features(features)\n",
    "\n",
    "    # Print extracted features\n",
    "    print(f\"Min Pitch: {features['min_pitch']}\")\n",
    "    print(f\"Mean Pitch: {features['mean_pitch']}\")\n",
    "    print(f\"Pitch Variation: {features['std_pitch']}\")\n",
    "    print(f\"Max Pitch: {features['max_pitch']}\")\n",
    "    print(f\"Pitch Range: {features['pitch_range']}\")\n",
    "    print(f\"Words Per Minute: {features['wpm']}\")"
   ]
  },
  {
   "cell_type": "code",
   "execution_count": null,
   "metadata": {},
   "outputs": [],
   "source": [
    "show(\"/workspaces/voice-analysis/notebooks-pocs/audio/fast.wav\")"
   ]
  },
  {
   "cell_type": "code",
   "execution_count": null,
   "metadata": {},
   "outputs": [],
   "source": [
    "show(\"/workspaces/voice-analysis/notebooks-pocs/audio/slow.wav\")"
   ]
  },
  {
   "cell_type": "code",
   "execution_count": null,
   "metadata": {},
   "outputs": [],
   "source": [
    "show(\"/workspaces/voice-analysis/notebooks-pocs/audio/tone-variety.wav\")"
   ]
  },
  {
   "cell_type": "code",
   "execution_count": 53,
   "metadata": {},
   "outputs": [
    {
     "name": "stdout",
     "output_type": "stream",
     "text": [
      "***HIGH***\n",
      "Min Pitch: 293.30663065805834\n",
      "Mean Pitch: 390.03246660734777\n",
      "Pitch Variation: 26.84226478533146\n",
      "Max Pitch: 446.65750082110793\n",
      "Pitch Range: 153.3508701630496\n",
      "Words Per Minute: 38.516405135520685\n",
      "***LOW***\n",
      "Min Pitch: 75.55221978702873\n",
      "Mean Pitch: 112.77171178343373\n",
      "Pitch Variation: 45.579179480323624\n",
      "Max Pitch: 447.4033545486049\n",
      "Pitch Range: 371.8511347615762\n",
      "Words Per Minute: 48.56504037909632\n"
     ]
    }
   ],
   "source": [
    "print(\"***HIGH***\")\n",
    "show(\"/workspaces/voice-analysis/notebooks-pocs/audio/high.wav\")\n",
    "\n",
    "print(\"***LOW***\")\n",
    "show(\"/workspaces/voice-analysis/notebooks-pocs/audio/low.wav\")"
   ]
  }
 ],
 "metadata": {
  "kernelspec": {
   "display_name": "Python 3 (ipykernel)",
   "language": "python",
   "name": "python3"
  },
  "language_info": {
   "codemirror_mode": {
    "name": "ipython",
    "version": 3
   },
   "file_extension": ".py",
   "mimetype": "text/x-python",
   "name": "python",
   "nbconvert_exporter": "python",
   "pygments_lexer": "ipython3",
   "version": "3.10.15"
  }
 },
 "nbformat": 4,
 "nbformat_minor": 2
}
